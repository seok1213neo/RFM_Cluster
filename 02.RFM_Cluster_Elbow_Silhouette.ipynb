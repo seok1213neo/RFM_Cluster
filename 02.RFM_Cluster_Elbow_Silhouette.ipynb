{
 "cells": [
  {
   "cell_type": "code",
   "execution_count": null,
   "id": "68e58315-0436-4190-be74-db8ae59179e6",
   "metadata": {},
   "outputs": [],
   "source": [
    "from sklearn.cluster import KMeans\n",
    "from sklearn.decomposition import PCA\n",
    "from sklearn.metrics import silhouette_score\n",
    "\n",
    "def visualize_elbowmethod(data, param_init='k-means++', param_n_init=10, param_max_iter=300):\n",
    "    distortions = []\n",
    "    for i in range(1, 10):\n",
    "        # pca = PCA(n_components=2)\n",
    "        # data = pca.fit_transform(data)\n",
    "        km = KMeans(n_clusters=i, init=param_init, n_init=param_n_init, max_iter=param_max_iter, random_state=0)\n",
    "        km.fit(data)\n",
    "        distortions.append(km.inertia_)\n",
    "\n",
    "    plt.plot(range(1, 10), distortions, marker='o')\n",
    "    plt.xlabel('Number of Cluster')\n",
    "    plt.ylabel('wCSS')\n",
    "    plt.show()\n"
   ]
  },
  {
   "cell_type": "code",
   "execution_count": null,
   "id": "e16b0fc0-530c-45f9-8c82-0b1cbebb4cf3",
   "metadata": {},
   "outputs": [],
   "source": [
    "def visualize_silhouette_layer(data, param_init='k-means++', param_n_init=10, param_max_iter=300):\n",
    "    clusters_range = range(2,11)\n",
    "    results = []\n",
    "\n",
    "    for i in clusters_range:\n",
    "        clusterer = KMeans(n_clusters=i, init=param_init, n_init=param_n_init, max_iter=param_max_iter, random_state=0)\n",
    "        cluster_labels = clusterer.fit_predict(data)\n",
    "        silhouette_avg = silhouette_score(data, cluster_labels)\n",
    "        results.append([i, silhouette_avg])\n",
    "\n",
    "    result = pd.DataFrame(results, columns=[\"n_clusters\", \"silhouette_score\"])\n",
    "    pivot_km = pd.pivot_table(result, index=\"n_clusters\", values=\"silhouette_score\")\n",
    "\n",
    "    plt.figure()\n",
    "    sns.heatmap(pivot_km, annot=True, linewidths=.5, fmt='.3f', cmap=sns.cm._rocket_lut)\n",
    "    plt.tight_layout()\n",
    "    plt.show()\n"
   ]
  },
  {
   "cell_type": "code",
   "execution_count": null,
   "id": "2a9ad232-1f84-43cf-9be2-f0f137dac6a7",
   "metadata": {},
   "outputs": [],
   "source": [
    "kmeans = KMeans(n_clusters = 4, init = 'k-means++', max_iter = 300, random_state= 42)\n",
    "df_cluster = kmeans.fit_transform(rfm_weight[['recency','frequency','monetary']])"
   ]
  },
  {
   "cell_type": "code",
   "execution_count": null,
   "id": "c3f63352-fafe-409c-9283-47c5a9c5c1e7",
   "metadata": {},
   "outputs": [],
   "source": [
    "fig = plt.figure(figsize = (10, 10))\n",
    "ax = fig.add_subplot(111, projection='3d')\n",
    "\n",
    "scatter = ax.scatter(rfm_weight['recency'], rfm_weight['frequency'], rfm_weight['monetary'], c=rfm_weight['cluster_4'], s=60, depthshade= True, cmap='Spectral')\n",
    "ax.set_xlabel('Recency')\n",
    "ax.set_ylabel('Frequency')\n",
    "ax.set_zlabel('Monetary')\n",
    "ax.set_title('Scatter plot of RFM by KMeans Clusting', fontsize = 15)\n",
    "plt.tight_layout()\n",
    "plt.show()"
   ]
  }
 ],
 "metadata": {
  "kernelspec": {
   "display_name": "Python 3 (ipykernel)",
   "language": "python",
   "name": "python3"
  },
  "language_info": {
   "codemirror_mode": {
    "name": "ipython",
    "version": 3
   },
   "file_extension": ".py",
   "mimetype": "text/x-python",
   "name": "python",
   "nbconvert_exporter": "python",
   "pygments_lexer": "ipython3",
   "version": "3.12.3"
  }
 },
 "nbformat": 4,
 "nbformat_minor": 5
}
